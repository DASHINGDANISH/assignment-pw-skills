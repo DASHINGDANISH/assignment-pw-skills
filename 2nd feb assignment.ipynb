{
 "cells": [
  {
   "cell_type": "code",
   "execution_count": 2,
   "id": "149d8c4b-5c93-4f9e-8f29-00078fcbbb8b",
   "metadata": {},
   "outputs": [],
   "source": [
    "## Q) When to use use for loop and when to use while loop explain with example\n",
    "\n",
    "\n",
    "\n"
   ]
  },
  {
   "cell_type": "code",
   "execution_count": 4,
   "id": "835b3920-f5ea-4cc8-96cf-97927711181a",
   "metadata": {},
   "outputs": [
    {
     "name": "stdout",
     "output_type": "stream",
     "text": [
      "porche\n",
      "ferrari\n",
      "ford\n"
     ]
    }
   ],
   "source": [
    "# example of for loop with example\n",
    "#for loop is used when we have a collection of data and we want to itertae it's elements\n",
    "#each single time , given below is its example\n",
    "Cars = [\"porche\",\"ferrari\",\"ford\"]\n",
    "for d in Cars:\n",
    "    print(d)"
   ]
  },
  {
   "cell_type": "code",
   "execution_count": null,
   "id": "7aae084b-a4ad-45bf-9981-704ba06ef1dd",
   "metadata": {},
   "outputs": [],
   "source": [
    "# while loop is used when we have to run a code until and unless a condition is \n",
    "# is satisfied, once it's satisfied the code terminates\n",
    "count = 10\n",
    "while count > 0:\n",
    "    print(count)\n",
    "    count -= 1\n"
   ]
  },
  {
   "cell_type": "code",
   "execution_count": null,
   "id": "24f832fa-0b6c-4188-8347-45ea877c9f8f",
   "metadata": {},
   "outputs": [],
   "source": [
    "10\n",
    "9\n",
    "8\n",
    "7\n",
    "6\n",
    "5\n",
    "4\n",
    "3\n",
    "2\n",
    "1\n"
   ]
  },
  {
   "cell_type": "code",
   "execution_count": null,
   "id": "690d5b92-1d4a-40b1-94c1-9b5e6c6abe98",
   "metadata": {},
   "outputs": [],
   "source": [
    "# Q) Using for and while loop give code for sum and product of first 10 numbers\n",
    "\n",
    "# code for \"for loop\"\n",
    "sum_ = 0\n",
    "product = 1\n",
    "for i in range(1, 11):\n",
    "    sum_ += i\n",
    "    product *= i\n",
    "print(\"Sum using for loop:\", sum_)\n",
    "print(\"Product using for loop:\", product)\n",
    "\n",
    "# code for \"while loop\"\n",
    "sum_ = 0\n",
    "product = 1\n",
    "i = 1\n",
    "while i <= 10:\n",
    "    sum_ += i\n",
    "    product *= i\n",
    "    i += 1\n",
    "print(\"Sum using while loop:\", sum_)\n",
    "print(\"Product using while loop:\", product)\n",
    "\n"
   ]
  },
  {
   "cell_type": "code",
   "execution_count": null,
   "id": "fddb0feb-9c86-4f52-8866-b32d26f6bfe2",
   "metadata": {},
   "outputs": [],
   "source": []
  }
 ],
 "metadata": {
  "kernelspec": {
   "display_name": "Python 3 (ipykernel)",
   "language": "python",
   "name": "python3"
  },
  "language_info": {
   "codemirror_mode": {
    "name": "ipython",
    "version": 3
   },
   "file_extension": ".py",
   "mimetype": "text/x-python",
   "name": "python",
   "nbconvert_exporter": "python",
   "pygments_lexer": "ipython3",
   "version": "3.10.8"
  }
 },
 "nbformat": 4,
 "nbformat_minor": 5
}
